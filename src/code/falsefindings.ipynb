{
 "cells": [
  {
   "cell_type": "markdown",
   "metadata": {},
   "source": [
    "# Why Most Published Research Findings are False\n",
    "\n",
    "Based on the essay by John Oiannidis: [_Why Most Published Research Findings are False_](https://journals.plos.org/plosmedicine/article?id=10.1371/journal.pmed.0020124), PLoS Medicine, August 2005.\n"
   ]
  },
  {
   "cell_type": "markdown",
   "metadata": {},
   "source": [
    "_R_ is the ratio of *true relationships* to *not true relationships*. For example, if we are doing a genome association study and there are 100,000 markers, and we expect 10 to be correlated with the condition, we would have:"
   ]
  },
  {
   "cell_type": "code",
   "execution_count": 4,
   "metadata": {},
   "outputs": [],
   "source": [
    "R = 10 / (100000 - 10)"
   ]
  },
  {
   "cell_type": "markdown",
   "metadata": {},
   "source": [
    "Thus, the a priori probability that a tested relationship (randomly selected) is true is _R / (R_ + 1)."
   ]
  },
  {
   "cell_type": "code",
   "execution_count": 5,
   "metadata": {},
   "outputs": [],
   "source": [
    "p = R / (R + 1)"
   ]
  },
  {
   "cell_type": "markdown",
   "metadata": {},
   "source": [
    "The probability of a Type I (false positive) error is &alpha;:"
   ]
  },
  {
   "cell_type": "code",
   "execution_count": 6,
   "metadata": {},
   "outputs": [],
   "source": [
    "alpha = 0.05"
   ]
  },
  {
   "cell_type": "markdown",
   "metadata": {},
   "source": [
    "The statistical power of the experiment, 1 - &Beta;, is the likelihood of finding an effect if there really is one. Typical experiments aim for statistical power of 0.8. The probability of a Type II (flase negative) error is &Beta;:"
   ]
  },
  {
   "cell_type": "code",
   "execution_count": 7,
   "metadata": {},
   "outputs": [],
   "source": [
    "beta = 0.2"
   ]
  },
  {
   "cell_type": "markdown",
   "metadata": {},
   "source": [
    "So, the probability the is a true relationship and the outcome of the experiment finds it is _p_(1 - &Beta;):"
   ]
  },
  {
   "cell_type": "code",
   "execution_count": 8,
   "metadata": {},
   "outputs": [],
   "source": [
    "pyy = (1 - beta) * p"
   ]
  },
  {
   "cell_type": "markdown",
   "metadata": {},
   "source": [
    "The probability that there is no true relationship and the outcome of the experiment is true is (1 - _p_)&alpha;:"
   ]
  },
  {
   "cell_type": "code",
   "execution_count": 9,
   "metadata": {},
   "outputs": [],
   "source": [
    "pny = (1 - p) * alpha"
   ]
  },
  {
   "cell_type": "code",
   "execution_count": 10,
   "metadata": {},
   "outputs": [
    {
     "data": {
      "text/plain": [
       "(0.049995000000000005, 8e-05)"
      ]
     },
     "execution_count": 10,
     "metadata": {},
     "output_type": "execute_result"
    }
   ],
   "source": [
    "pny, pyy"
   ]
  },
  {
   "cell_type": "markdown",
   "metadata": {},
   "source": [
    "The positive predictive value of the experiment is the number of true positives / total number of positive outcomes:"
   ]
  },
  {
   "cell_type": "code",
   "execution_count": 11,
   "metadata": {},
   "outputs": [],
   "source": [
    "PPV = pyy / (pny + pyy)"
   ]
  },
  {
   "cell_type": "code",
   "execution_count": 12,
   "metadata": {},
   "outputs": [
    {
     "data": {
      "text/plain": [
       "0.001597603594608088"
      ]
     },
     "execution_count": 12,
     "metadata": {},
     "output_type": "execute_result"
    }
   ],
   "source": [
    "PPV"
   ]
  },
  {
   "cell_type": "markdown",
   "metadata": {},
   "source": [
    "Yikes! The likelihood of the research finding being false is over 99%:"
   ]
  },
  {
   "cell_type": "code",
   "execution_count": 13,
   "metadata": {},
   "outputs": [
    {
     "name": "stdout",
     "output_type": "stream",
     "text": [
      "99.84023964053918\n"
     ]
    }
   ],
   "source": [
    "print(100 * (1 - PPV))"
   ]
  },
  {
   "cell_type": "markdown",
   "metadata": {},
   "source": [
    "Let's try varying _R_ and hope things get better..."
   ]
  },
  {
   "cell_type": "code",
   "execution_count": 14,
   "metadata": {},
   "outputs": [],
   "source": [
    "def compute_ppv(R, alpha, beta):\n",
    "    p = R / (R + 1)\n",
    "    pyy = (1 - beta) * p\n",
    "    pny = (1 - p) * alpha\n",
    "    return pyy / (pny + pyy)"
   ]
  },
  {
   "cell_type": "code",
   "execution_count": 15,
   "metadata": {},
   "outputs": [
    {
     "data": {
      "text/plain": [
       "0.001597603594608088"
      ]
     },
     "execution_count": 15,
     "metadata": {},
     "output_type": "execute_result"
    }
   ],
   "source": [
    "compute_ppv(10 / (100000 - 10), 0.05, 0.20)"
   ]
  },
  {
   "cell_type": "code",
   "execution_count": 16,
   "metadata": {},
   "outputs": [
    {
     "name": "stdout",
     "output_type": "stream",
     "text": [
      "R = 0.00010000, PPV = 0.00160\n",
      "R = 0.00100000, PPV = 0.01575\n",
      "R = 0.01000000, PPV = 0.13793\n",
      "R = 0.10000000, PPV = 0.61538\n",
      "R = 0.50000000, PPV = 0.88889\n",
      "R = 1.00000000, PPV = 0.94118\n"
     ]
    }
   ],
   "source": [
    "for R in [1/n for n in (10000, 1000, 100, 10, 2, 1)]:\n",
    "        print(\"R = {0:1.8f}, PPV = {1:1.5f}\".format(R, compute_ppv(R, alpha, beta)))"
   ]
  },
  {
   "cell_type": "code",
   "execution_count": null,
   "metadata": {},
   "outputs": [],
   "source": []
  }
 ],
 "metadata": {
  "kernelspec": {
   "display_name": "Python 3",
   "language": "python",
   "name": "python3"
  },
  "language_info": {
   "codemirror_mode": {
    "name": "ipython",
    "version": 3
   },
   "file_extension": ".py",
   "mimetype": "text/x-python",
   "name": "python",
   "nbconvert_exporter": "python",
   "pygments_lexer": "ipython3",
   "version": "3.7.1"
  }
 },
 "nbformat": 4,
 "nbformat_minor": 2
}
